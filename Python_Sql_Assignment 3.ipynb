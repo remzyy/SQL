{
 "cells": [
  {
   "cell_type": "code",
   "execution_count": 1,
   "id": "009a0ec7",
   "metadata": {},
   "outputs": [
    {
     "name": "stdout",
     "output_type": "stream",
     "text": [
      "done\n"
     ]
    }
   ],
   "source": [
    "# import required libraries\n",
    "import pandas as pd\n",
    "from sqlalchemy import create_engine\n",
    "import pymysql\n",
    "print ('done')"
   ]
  },
  {
   "cell_type": "code",
   "execution_count": 2,
   "id": "85a756f2",
   "metadata": {},
   "outputs": [],
   "source": [
    "# create engine\n",
    "engine = create_engine('mysql+pymysql://root:@localhost/Data1202')\n"
   ]
  },
  {
   "cell_type": "code",
   "execution_count": 3,
   "id": "e6b36047",
   "metadata": {},
   "outputs": [],
   "source": [
    "# connection string\n",
    "conn = engine.connect()"
   ]
  },
  {
   "cell_type": "code",
   "execution_count": 4,
   "id": "602f8319",
   "metadata": {},
   "outputs": [],
   "source": [
    "# read a simple query into DataFrame\n",
    "df = pd.read_sql(\"SELECT * FROM data1202.vgsales\", conn)"
   ]
  },
  {
   "cell_type": "code",
   "execution_count": 5,
   "id": "b12f8b89",
   "metadata": {
    "scrolled": true
   },
   "outputs": [
    {
     "name": "stdout",
     "output_type": "stream",
     "text": [
      "   Rank                      Name Platform  Year         Genre Publisher  \\\n",
      "0     1                Wii Sports      Wii  2006        Sports  Nintendo   \n",
      "1     2         Super Mario Bros.      NES  1985      Platform  Nintendo   \n",
      "2     3            Mario Kart Wii      Wii  2008        Racing  Nintendo   \n",
      "3     4         Wii Sports Resort      Wii  2009        Sports  Nintendo   \n",
      "4     5  Pokemon Red/Pokemon Blue       GB  1996  Role-Playing  Nintendo   \n",
      "\n",
      "   NA_Sales  EU_Sales  JP_Sales  Other_Sales  Global_Sales  \n",
      "0     41.49     29.02      3.77         8.46         82.74  \n",
      "1     29.08      3.58      6.81         0.77         40.24  \n",
      "2     15.85     12.88      3.79         3.31         35.82  \n",
      "3     15.75     11.01      3.28         2.96         33.00  \n",
      "4     11.27      8.89     10.22         1.00         31.37  \n"
     ]
    }
   ],
   "source": [
    "# print DataFrame\n",
    "print(df.head())"
   ]
  },
  {
   "cell_type": "code",
   "execution_count": 26,
   "id": "e8cfdb30",
   "metadata": {},
   "outputs": [
    {
     "name": "stdout",
     "output_type": "stream",
     "text": [
      "   Global_Sales  AVG_GLOBAL pre2005_post2005\n",
      "0         40.24    0.649884          pre2005\n",
      "1         82.74    0.489391         post2005\n"
     ]
    }
   ],
   "source": [
    "#Global average sales before and after 2005\n",
    "df1 = pd.read_sql  ('''SELECT\n",
    "    Global_Sales, avg(Global_Sales) as AVG_GLOBAL,\n",
    "    case\n",
    "    when Year < 2005 then 'pre2005'\n",
    "    else 'post2005'\n",
    "    end as pre2005_post2005\n",
    "\n",
    "FROM\n",
    "data1202.vgsales\n",
    "Group by pre2005_post2005\n",
    "Order by AVG_GLOBAL desc''', conn)\n",
    "\n",
    "print(df1)\n"
   ]
  },
  {
   "cell_type": "code",
   "execution_count": 27,
   "id": "41df9060",
   "metadata": {},
   "outputs": [
    {
     "name": "stdout",
     "output_type": "stream",
     "text": [
      "   highest     MAXgs\n",
      "0  pre2005  0.649884\n"
     ]
    }
   ],
   "source": [
    "# Display the highest global sales\n",
    "df2 = pd.read_sql('''select q.pre2005_post2005 as highest, max(AVG_GLOBAL) as MAXgs\n",
    "from (SELECT\n",
    "    Global_Sales, avg(Global_Sales) as AVG_GLOBAL,\n",
    "    case\n",
    "    when Year < 2005 then 'pre2005'\n",
    "    else 'post2005'\n",
    "    end as pre2005_post2005\n",
    "\n",
    "FROM\n",
    "    data1202.vgsales\n",
    "Group by pre2005_post2005\n",
    "Order by AVG_GLOBAL desc\n",
    "     )q ''', conn)\n",
    "print (df2)"
   ]
  },
  {
   "cell_type": "code",
   "execution_count": 28,
   "id": "2dfdf370",
   "metadata": {},
   "outputs": [
    {
     "name": "stdout",
     "output_type": "stream",
     "text": [
      "        Rank                                              Name Platform  Year  \\\n",
      "0          1                                        Wii Sports      Wii  2006   \n",
      "1          2                                 Super Mario Bros.      NES  1985   \n",
      "2          3                                    Mario Kart Wii      Wii  2008   \n",
      "3          4                                 Wii Sports Resort      Wii  2009   \n",
      "4          5                          Pokemon Red/Pokemon Blue       GB  1996   \n",
      "...      ...                                               ...      ...   ...   \n",
      "16322  16596                Woody Woodpecker in Crazy Castle 5      GBA  2002   \n",
      "16323  16597                     Men in Black II: Alien Escape       GC  2003   \n",
      "16324  16598  SCORE International Baja 1000: The Official Game      PS2  2008   \n",
      "16325  16599                                        Know How 2       DS  2010   \n",
      "16326  16600                                  Spirits & Spells      GBA  2003   \n",
      "\n",
      "      Pre_past_2010         Genre   Publisher  NA_Sales  EU_Sales  JP_Sales  \\\n",
      "0          pre-2010        Sports    Nintendo     41.49     29.02      3.77   \n",
      "1          pre-2010      Platform    Nintendo     29.08      3.58      6.81   \n",
      "2          pre-2010        Racing    Nintendo     15.85     12.88      3.79   \n",
      "3          pre-2010        Sports    Nintendo     15.75     11.01      3.28   \n",
      "4          pre-2010  Role-Playing    Nintendo     11.27      8.89     10.22   \n",
      "...             ...           ...         ...       ...       ...       ...   \n",
      "16322      pre-2010      Platform       Kemco      0.01      0.00      0.00   \n",
      "16323      pre-2010       Shooter  Infogrames      0.01      0.00      0.00   \n",
      "16324      pre-2010        Racing  Activision      0.00      0.00      0.00   \n",
      "16325     post-2010        Puzzle    7G//AMES      0.00      0.01      0.00   \n",
      "16326      pre-2010      Platform     Wanadoo      0.01      0.00      0.00   \n",
      "\n",
      "       Other_Sales  Global_Sales pre2005_post2005  \n",
      "0             8.46         82.74        post 2005  \n",
      "1             0.77         40.24          pre2005  \n",
      "2             3.31         35.82        post 2005  \n",
      "3             2.96         33.00        post 2005  \n",
      "4             1.00         31.37          pre2005  \n",
      "...            ...           ...              ...  \n",
      "16322         0.00          0.01          pre2005  \n",
      "16323         0.00          0.01          pre2005  \n",
      "16324         0.00          0.01        post 2005  \n",
      "16325         0.00          0.01        post 2005  \n",
      "16326         0.00          0.01          pre2005  \n",
      "\n",
      "[16327 rows x 13 columns]\n"
     ]
    }
   ],
   "source": [
    "# adding a \n",
    "df3 = pd.read_sql('''select *,\n",
    "case\n",
    "when Year<2005 then 'pre2005'\n",
    "else\n",
    "'post 2005'\n",
    "\n",
    "end as pre2005_post2005\n",
    "FROM\n",
    "    data1202.vgsales ''', conn)\n",
    "print(df3)"
   ]
  },
  {
   "cell_type": "code",
   "execution_count": null,
   "id": "7f94cb57",
   "metadata": {},
   "outputs": [],
   "source": []
  }
 ],
 "metadata": {
  "kernelspec": {
   "display_name": "Python 3 (ipykernel)",
   "language": "python",
   "name": "python3"
  },
  "language_info": {
   "codemirror_mode": {
    "name": "ipython",
    "version": 3
   },
   "file_extension": ".py",
   "mimetype": "text/x-python",
   "name": "python",
   "nbconvert_exporter": "python",
   "pygments_lexer": "ipython3",
   "version": "3.9.7"
  }
 },
 "nbformat": 4,
 "nbformat_minor": 5
}
